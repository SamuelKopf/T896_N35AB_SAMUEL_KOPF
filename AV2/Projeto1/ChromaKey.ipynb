{
 "cells": [
  {
   "cell_type": "code",
   "execution_count": null,
   "id": "59c55be6-7d1e-435e-9848-56cae06bf9c2",
   "metadata": {},
   "outputs": [],
   "source": []
  }
 ],
 "metadata": {
  "kernelspec": {
   "display_name": "",
   "name": ""
  },
  "language_info": {
   "name": ""
  }
 },
 "nbformat": 4,
 "nbformat_minor": 5
}
